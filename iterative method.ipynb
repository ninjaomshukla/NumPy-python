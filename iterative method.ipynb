{
 "cells": [
  {
   "cell_type": "code",
   "execution_count": null,
   "id": "b9058464",
   "metadata": {},
   "outputs": [],
   "source": [
    "import numpy as np"
   ]
  },
  {
   "cell_type": "code",
   "execution_count": null,
   "id": "af3a7798",
   "metadata": {},
   "outputs": [],
   "source": [
    "arr=np.array([1,2,3,4,5])\n",
    "for i in arr:\n",
    "    print(i)"
   ]
  },
  {
   "cell_type": "code",
   "execution_count": null,
   "id": "c6e32912",
   "metadata": {},
   "outputs": [],
   "source": [
    "arr=np.array([[1,2,3,4,5],[11,22,33,44,55]])\n",
    "for i in arr:\n",
    "    print(i)"
   ]
  },
  {
   "cell_type": "code",
   "execution_count": null,
   "id": "6328e0b9",
   "metadata": {},
   "outputs": [],
   "source": [
    "arr=np.array([[1,2,3,4,5],[11,22,33,44,55]])\n",
    "for i in arr:\n",
    "    for x in i:\n",
    "        print(x)\n",
    "   "
   ]
  },
  {
   "cell_type": "code",
   "execution_count": null,
   "id": "e6307bdd",
   "metadata": {},
   "outputs": [],
   "source": [
    "arr=np.array([[1,2,3,4,5],[11,22,33,44,55]])\n",
    "for i in np.nditer(arr):\n",
    "    print(i)"
   ]
  },
  {
   "cell_type": "code",
   "execution_count": null,
   "id": "2207d32a",
   "metadata": {},
   "outputs": [],
   "source": [
    "arr1=np.array([1, 2, 3, 4])\n",
    "for i in (arr1):\n",
    "    print(i)"
   ]
  },
  {
   "cell_type": "markdown",
   "id": "c84d773a",
   "metadata": {},
   "source": [
    "# joining numpy array"
   ]
  },
  {
   "cell_type": "code",
   "execution_count": null,
   "id": "1f9ed15c",
   "metadata": {},
   "outputs": [],
   "source": [
    "arr1=np.array([1, 2, 3, 4])\n",
    "arr=np.array([1,2,3,4,5])"
   ]
  },
  {
   "cell_type": "code",
   "execution_count": null,
   "id": "a05e28c5",
   "metadata": {},
   "outputs": [],
   "source": [
    "arr2=np.concatenate((arr1,arr))\n",
    "print(arr2)"
   ]
  },
  {
   "cell_type": "code",
   "execution_count": null,
   "id": "398b4458",
   "metadata": {},
   "outputs": [],
   "source": [
    "arr1=np.array([[1, 2, 3, 4],[1, 2, 3, 4]])\n",
    "arr=np.array([[1,2,3,4,5],[11,22,33,44,55]])\n",
    "arr2=np.concatenate((arr,arr1),axis=1)\n",
    "print(arr2)"
   ]
  },
  {
   "cell_type": "code",
   "execution_count": null,
   "id": "61bac86a",
   "metadata": {},
   "outputs": [],
   "source": [
    "arr1=np.array([[1,2,3,4,5],[1,2,3,4,5]])\n",
    "arr=np.array([[1,2,3,4,5],[11,22,33,44,55]])\n",
    "arr2=np.concatenate((arr,arr1),axis=0)\n",
    "print(arr2)"
   ]
  },
  {
   "cell_type": "code",
   "execution_count": null,
   "id": "e0df51f0",
   "metadata": {},
   "outputs": [],
   "source": [
    "arr2=np.vstack((arr,arr1))"
   ]
  },
  {
   "cell_type": "code",
   "execution_count": null,
   "id": "e824ec30",
   "metadata": {},
   "outputs": [],
   "source": [
    "arr2"
   ]
  },
  {
   "cell_type": "code",
   "execution_count": null,
   "id": "c132aae8",
   "metadata": {},
   "outputs": [],
   "source": []
  }
 ],
 "metadata": {
  "kernelspec": {
   "display_name": "Python 3",
   "language": "python",
   "name": "python3"
  },
  "language_info": {
   "codemirror_mode": {
    "name": "ipython",
    "version": 3
   },
   "file_extension": ".py",
   "mimetype": "text/x-python",
   "name": "python",
   "nbconvert_exporter": "python",
   "pygments_lexer": "ipython3",
   "version": "3.8.8"
  }
 },
 "nbformat": 4,
 "nbformat_minor": 5
}
