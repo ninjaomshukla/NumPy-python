{
 "cells": [
  {
   "cell_type": "code",
   "execution_count": 1,
   "id": "eac9a21a",
   "metadata": {},
   "outputs": [],
   "source": [
    "import numpy as np"
   ]
  },
  {
   "cell_type": "code",
   "execution_count": 2,
   "id": "386fdb27",
   "metadata": {},
   "outputs": [],
   "source": [
    "str1=\"hello everyone to all\""
   ]
  },
  {
   "cell_type": "code",
   "execution_count": 3,
   "id": "ee18099e",
   "metadata": {},
   "outputs": [],
   "source": [
    "str2=\"what are you say\""
   ]
  },
  {
   "cell_type": "code",
   "execution_count": 4,
   "id": "f2590907",
   "metadata": {},
   "outputs": [
    {
     "data": {
      "text/plain": [
       "array('hello everyone to allwhat are you say', dtype='<U37')"
      ]
     },
     "execution_count": 4,
     "metadata": {},
     "output_type": "execute_result"
    }
   ],
   "source": [
    "np.char.add(str1,str2)"
   ]
  },
  {
   "cell_type": "code",
   "execution_count": 6,
   "id": "e8d5e159",
   "metadata": {},
   "outputs": [
    {
     "data": {
      "text/plain": [
       "array('hello everyone to all', dtype='<U21')"
      ]
     },
     "execution_count": 6,
     "metadata": {},
     "output_type": "execute_result"
    }
   ],
   "source": [
    "np.char.lower(str1)"
   ]
  },
  {
   "cell_type": "code",
   "execution_count": 7,
   "id": "5e36cc5f",
   "metadata": {},
   "outputs": [
    {
     "data": {
      "text/plain": [
       "array('HELLO EVERYONE TO ALL', dtype='<U21')"
      ]
     },
     "execution_count": 7,
     "metadata": {},
     "output_type": "execute_result"
    }
   ],
   "source": [
    "np.char.upper(str1)"
   ]
  },
  {
   "cell_type": "code",
   "execution_count": 11,
   "id": "fa61faa4",
   "metadata": {},
   "outputs": [
    {
     "data": {
      "text/plain": [
       "array('                   hello everyone to all                    ',\n",
       "      dtype='<U60')"
      ]
     },
     "execution_count": 11,
     "metadata": {},
     "output_type": "execute_result"
    }
   ],
   "source": [
    "np.char.center(str1,60)"
   ]
  },
  {
   "cell_type": "code",
   "execution_count": 12,
   "id": "6556b714",
   "metadata": {},
   "outputs": [
    {
     "data": {
      "text/plain": [
       "array('*******************hello everyone to all********************',\n",
       "      dtype='<U60')"
      ]
     },
     "execution_count": 12,
     "metadata": {},
     "output_type": "execute_result"
    }
   ],
   "source": [
    "np.char.center(str1,60,fillchar=\"*\")"
   ]
  },
  {
   "cell_type": "code",
   "execution_count": null,
   "id": "ad1a1ac3",
   "metadata": {},
   "outputs": [],
   "source": []
  }
 ],
 "metadata": {
  "kernelspec": {
   "display_name": "Python 3",
   "language": "python",
   "name": "python3"
  },
  "language_info": {
   "codemirror_mode": {
    "name": "ipython",
    "version": 3
   },
   "file_extension": ".py",
   "mimetype": "text/x-python",
   "name": "python",
   "nbconvert_exporter": "python",
   "pygments_lexer": "ipython3",
   "version": "3.8.8"
  }
 },
 "nbformat": 4,
 "nbformat_minor": 5
}
